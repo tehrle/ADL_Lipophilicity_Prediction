{
 "cells": [
  {
   "metadata": {},
   "cell_type": "markdown",
   "source": [
    "# Advanced Deep Learning AS24\n",
    "## Exploration of Graphs in Python / PyTorch for molecular Deep Learning\n",
    "\n",
    "- Some exploration how to create Graphs from SMILES and how to convert them into suitable format for Graph Neural Networks\n",
    "\n",
    "---"
   ],
   "id": "7a442ae797ebc1b"
  },
  {
   "metadata": {
    "ExecuteTime": {
     "end_time": "2024-11-17T19:51:05.025595Z",
     "start_time": "2024-11-17T19:51:05.022788Z"
    }
   },
   "cell_type": "code",
   "source": [
    "# import necessary packages\n",
    "import pandas as pd\n",
    "import torch\n",
    "import matplotlib.pyplot as plt\n",
    "import networkx as nx\n",
    "\n",
    "# rdkit\n",
    "from rdkit import Chem\n",
    "from rdkit.Chem import AllChem, Draw, PandasTools, AddHs\n",
    "from rdkit.Chem.Draw import IPythonConsole\n",
    "IPythonConsole.molSize = (300, 300)   # Change image size\n",
    "\n",
    "# DGL or DGL life respectively to create graphs\n",
    "from dgllife.utils.featurizers import CanonicalAtomFeaturizer, CanonicalBondFeaturizer\n",
    "from dgllife.utils import mol_to_bigraph\n",
    "\n",
    "# pytorch geometric\n",
    "from torch_geometric.data import Data"
   ],
   "id": "161beae3a8e9d3be",
   "outputs": [],
   "execution_count": 139
  },
  {
   "metadata": {},
   "cell_type": "markdown",
   "source": [
    "---\n",
    "## Read in and Process Data"
   ],
   "id": "7ad2be78962aa00d"
  },
  {
   "metadata": {
    "ExecuteTime": {
     "end_time": "2024-11-17T19:51:05.051563Z",
     "start_time": "2024-11-17T19:51:05.039378Z"
    }
   },
   "cell_type": "code",
   "source": [
    "# read in logP data\n",
    "logP_df = pd.read_csv('../data/logP.csv')\n",
    "\n",
    "# display df\n",
    "logP_df.head()"
   ],
   "id": "8b3e3ea9ef1df890",
   "outputs": [
    {
     "data": {
      "text/plain": [
       "              smiles  logP\n",
       "0      BrC(Br)(Br)Br  3.42\n",
       "1  BrC1C2CC3C(C2)C13  3.11\n",
       "2      BrC1CC2CCC1C2  3.54\n",
       "3         BrC1CCCCC1  3.20\n",
       "4        BrC=C(Br)Br  3.20"
      ],
      "text/html": [
       "<div>\n",
       "<style scoped>\n",
       "    .dataframe tbody tr th:only-of-type {\n",
       "        vertical-align: middle;\n",
       "    }\n",
       "\n",
       "    .dataframe tbody tr th {\n",
       "        vertical-align: top;\n",
       "    }\n",
       "\n",
       "    .dataframe thead th {\n",
       "        text-align: right;\n",
       "    }\n",
       "</style>\n",
       "<table border=\"1\" class=\"dataframe\">\n",
       "  <thead>\n",
       "    <tr style=\"text-align: right;\">\n",
       "      <th></th>\n",
       "      <th>smiles</th>\n",
       "      <th>logP</th>\n",
       "    </tr>\n",
       "  </thead>\n",
       "  <tbody>\n",
       "    <tr>\n",
       "      <th>0</th>\n",
       "      <td>BrC(Br)(Br)Br</td>\n",
       "      <td>3.42</td>\n",
       "    </tr>\n",
       "    <tr>\n",
       "      <th>1</th>\n",
       "      <td>BrC1C2CC3C(C2)C13</td>\n",
       "      <td>3.11</td>\n",
       "    </tr>\n",
       "    <tr>\n",
       "      <th>2</th>\n",
       "      <td>BrC1CC2CCC1C2</td>\n",
       "      <td>3.54</td>\n",
       "    </tr>\n",
       "    <tr>\n",
       "      <th>3</th>\n",
       "      <td>BrC1CCCCC1</td>\n",
       "      <td>3.20</td>\n",
       "    </tr>\n",
       "    <tr>\n",
       "      <th>4</th>\n",
       "      <td>BrC=C(Br)Br</td>\n",
       "      <td>3.20</td>\n",
       "    </tr>\n",
       "  </tbody>\n",
       "</table>\n",
       "</div>"
      ]
     },
     "execution_count": 140,
     "metadata": {},
     "output_type": "execute_result"
    }
   ],
   "execution_count": 140
  },
  {
   "metadata": {
    "ExecuteTime": {
     "end_time": "2024-11-17T19:51:05.076266Z",
     "start_time": "2024-11-17T19:51:05.071550Z"
    }
   },
   "cell_type": "code",
   "source": [
    "# get stats\n",
    "logP_df.describe()"
   ],
   "id": "5822e5d4ba1571e6",
   "outputs": [
    {
     "data": {
      "text/plain": [
       "               logP\n",
       "count  13688.000000\n",
       "mean       2.126264\n",
       "std        1.867572\n",
       "min       -4.650000\n",
       "25%        0.890000\n",
       "50%        2.030000\n",
       "75%        3.250000\n",
       "max        9.960000"
      ],
      "text/html": [
       "<div>\n",
       "<style scoped>\n",
       "    .dataframe tbody tr th:only-of-type {\n",
       "        vertical-align: middle;\n",
       "    }\n",
       "\n",
       "    .dataframe tbody tr th {\n",
       "        vertical-align: top;\n",
       "    }\n",
       "\n",
       "    .dataframe thead th {\n",
       "        text-align: right;\n",
       "    }\n",
       "</style>\n",
       "<table border=\"1\" class=\"dataframe\">\n",
       "  <thead>\n",
       "    <tr style=\"text-align: right;\">\n",
       "      <th></th>\n",
       "      <th>logP</th>\n",
       "    </tr>\n",
       "  </thead>\n",
       "  <tbody>\n",
       "    <tr>\n",
       "      <th>count</th>\n",
       "      <td>13688.000000</td>\n",
       "    </tr>\n",
       "    <tr>\n",
       "      <th>mean</th>\n",
       "      <td>2.126264</td>\n",
       "    </tr>\n",
       "    <tr>\n",
       "      <th>std</th>\n",
       "      <td>1.867572</td>\n",
       "    </tr>\n",
       "    <tr>\n",
       "      <th>min</th>\n",
       "      <td>-4.650000</td>\n",
       "    </tr>\n",
       "    <tr>\n",
       "      <th>25%</th>\n",
       "      <td>0.890000</td>\n",
       "    </tr>\n",
       "    <tr>\n",
       "      <th>50%</th>\n",
       "      <td>2.030000</td>\n",
       "    </tr>\n",
       "    <tr>\n",
       "      <th>75%</th>\n",
       "      <td>3.250000</td>\n",
       "    </tr>\n",
       "    <tr>\n",
       "      <th>max</th>\n",
       "      <td>9.960000</td>\n",
       "    </tr>\n",
       "  </tbody>\n",
       "</table>\n",
       "</div>"
      ]
     },
     "execution_count": 141,
     "metadata": {},
     "output_type": "execute_result"
    }
   ],
   "execution_count": 141
  },
  {
   "metadata": {
    "ExecuteTime": {
     "end_time": "2024-11-17T19:51:05.119363Z",
     "start_time": "2024-11-17T19:51:05.116893Z"
    }
   },
   "cell_type": "code",
   "source": [
    "# check for NAN values\n",
    "logP_df.isnull().sum()  # no missing values"
   ],
   "id": "f997e2319cb17bf6",
   "outputs": [
    {
     "data": {
      "text/plain": [
       "smiles    0\n",
       "logP      0\n",
       "dtype: int64"
      ]
     },
     "execution_count": 142,
     "metadata": {},
     "output_type": "execute_result"
    }
   ],
   "execution_count": 142
  },
  {
   "metadata": {
    "ExecuteTime": {
     "end_time": "2024-11-17T19:51:05.633215Z",
     "start_time": "2024-11-17T19:51:05.167112Z"
    }
   },
   "cell_type": "code",
   "source": [
    "# some rdkit operations on a pandas df\n",
    "PandasTools.AddMoleculeColumnToFrame(logP_df, smilesCol='smiles', molCol='molecule') # no molecules are displayed\n",
    "PandasTools.RenderImagesInAllDataFrames(images=True) # doesn't fix the issue\n",
    "\n",
    "logP_df.head()"
   ],
   "id": "e95d4bcbc2799499",
   "outputs": [
    {
     "data": {
      "text/plain": [
       "              smiles  logP                                       molecule\n",
       "0      BrC(Br)(Br)Br  3.42  <rdkit.Chem.rdchem.Mol object at 0x357433b50>\n",
       "1  BrC1C2CC3C(C2)C13  3.11  <rdkit.Chem.rdchem.Mol object at 0x357431cb0>\n",
       "2      BrC1CC2CCC1C2  3.54  <rdkit.Chem.rdchem.Mol object at 0x358edece0>\n",
       "3         BrC1CCCCC1  3.20  <rdkit.Chem.rdchem.Mol object at 0x358edc0b0>\n",
       "4        BrC=C(Br)Br  3.20  <rdkit.Chem.rdchem.Mol object at 0x358edceb0>"
      ],
      "text/html": [
       "<div>\n",
       "<style scoped>\n",
       "    .dataframe tbody tr th:only-of-type {\n",
       "        vertical-align: middle;\n",
       "    }\n",
       "\n",
       "    .dataframe tbody tr th {\n",
       "        vertical-align: top;\n",
       "    }\n",
       "\n",
       "    .dataframe thead th {\n",
       "        text-align: right;\n",
       "    }\n",
       "</style>\n",
       "<table border=\"1\" class=\"dataframe\">\n",
       "  <thead>\n",
       "    <tr style=\"text-align: right;\">\n",
       "      <th></th>\n",
       "      <th>smiles</th>\n",
       "      <th>logP</th>\n",
       "      <th>molecule</th>\n",
       "    </tr>\n",
       "  </thead>\n",
       "  <tbody>\n",
       "    <tr>\n",
       "      <th>0</th>\n",
       "      <td>BrC(Br)(Br)Br</td>\n",
       "      <td>3.42</td>\n",
       "      <td style=\"text-align: center;\"><div style=\"width: 200px; height: 200px\" data-content=\"rdkit/molecule\"><img src=\"data:image/png;base64,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\" alt=\"Mol\"/></div></td>\n",
       "    </tr>\n",
       "    <tr>\n",
       "      <th>1</th>\n",
       "      <td>BrC1C2CC3C(C2)C13</td>\n",
       "      <td>3.11</td>\n",
       "      <td style=\"text-align: center;\"><div style=\"width: 200px; height: 200px\" data-content=\"rdkit/molecule\"><img src=\"data:image/png;base64,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\" alt=\"Mol\"/></div></td>\n",
       "    </tr>\n",
       "    <tr>\n",
       "      <th>2</th>\n",
       "      <td>BrC1CC2CCC1C2</td>\n",
       "      <td>3.54</td>\n",
       "      <td style=\"text-align: center;\"><div style=\"width: 200px; height: 200px\" data-content=\"rdkit/molecule\"><img src=\"data:image/png;base64,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\" alt=\"Mol\"/></div></td>\n",
       "    </tr>\n",
       "    <tr>\n",
       "      <th>3</th>\n",
       "      <td>BrC1CCCCC1</td>\n",
       "      <td>3.20</td>\n",
       "      <td style=\"text-align: center;\"><div style=\"width: 200px; height: 200px\" data-content=\"rdkit/molecule\"><img src=\"data:image/png;base64,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\" alt=\"Mol\"/></div></td>\n",
       "    </tr>\n",
       "    <tr>\n",
       "      <th>4</th>\n",
       "      <td>BrC=C(Br)Br</td>\n",
       "      <td>3.20</td>\n",
       "      <td style=\"text-align: center;\"><div style=\"width: 200px; height: 200px\" data-content=\"rdkit/molecule\"><img src=\"data:image/png;base64,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\" alt=\"Mol\"/></div></td>\n",
       "    </tr>\n",
       "  </tbody>\n",
       "</table>\n",
       "</div>"
      ]
     },
     "execution_count": 143,
     "metadata": {},
     "output_type": "execute_result"
    }
   ],
   "execution_count": 143
  },
  {
   "metadata": {},
   "cell_type": "markdown",
   "source": [
    "---\n",
    "\n",
    "## Process molecule into Graphs for DL"
   ],
   "id": "be136a168f1e68b5"
  },
  {
   "metadata": {
    "ExecuteTime": {
     "end_time": "2024-11-17T19:51:06.250854Z",
     "start_time": "2024-11-17T19:51:05.753033Z"
    }
   },
   "cell_type": "code",
   "source": [
    "smiles_list = logP_df['smiles'].tolist()    # extract smiles\n",
    "logP_list = logP_df['logP'].tolist()    # extract logP values\n",
    "mol_list = [Chem.MolFromSmiles(smiles) for smiles in smiles_list]   # convert smiles into mol objects (RDKit)"
   ],
   "id": "62209c915773c2d5",
   "outputs": [],
   "execution_count": 144
  },
  {
   "metadata": {
    "ExecuteTime": {
     "end_time": "2024-11-17T19:51:06.281328Z",
     "start_time": "2024-11-17T19:51:06.275653Z"
    }
   },
   "cell_type": "code",
   "source": [
    "# extract mol-object to demonstrate the workflow\n",
    "index= 20 # comments below refer to molecule with index 20!\n",
    "\n",
    "dummy_mol = mol_list[index]\n",
    "dummy_smiles = smiles_list[index]\n",
    "\n",
    "dummy_mol"
   ],
   "id": "43e3ee03d8d4216c",
   "outputs": [
    {
     "data": {
      "text/plain": [
       "<rdkit.Chem.rdchem.Mol at 0x35a19b4c0>"
      ],
      "text/html": [
       "<?xml version='1.0' encoding='iso-8859-1'?>\n",
       "<svg version='1.1' baseProfile='full'\n",
       "              xmlns='http://www.w3.org/2000/svg'\n",
       "                      xmlns:rdkit='http://www.rdkit.org/xml'\n",
       "                      xmlns:xlink='http://www.w3.org/1999/xlink'\n",
       "                  xml:space='preserve'\n",
       "width='300px' height='300px' viewBox='0 0 300 300'>\n",
       "<!-- END OF HEADER -->\n",
       "<rect style='opacity:1.0;fill:#FFFFFF;stroke:none' width='300.0' height='300.0' x='0.0' y='0.0'> </rect>\n",
       "<path class='bond-0 atom-0 atom-1' d='M 36.2,185.0 L 59.9,175.9' style='fill:none;fill-rule:evenodd;stroke:#7F4C19;stroke-width:2.0px;stroke-linecap:butt;stroke-linejoin:miter;stroke-opacity:1' />\n",
       "<path class='bond-0 atom-0 atom-1' d='M 59.9,175.9 L 83.6,166.7' style='fill:none;fill-rule:evenodd;stroke:#000000;stroke-width:2.0px;stroke-linecap:butt;stroke-linejoin:miter;stroke-opacity:1' />\n",
       "<path class='bond-1 atom-1 atom-2' d='M 83.6,166.7 L 127.4,202.1' style='fill:none;fill-rule:evenodd;stroke:#000000;stroke-width:2.0px;stroke-linecap:butt;stroke-linejoin:miter;stroke-opacity:1' />\n",
       "<path class='bond-1 atom-1 atom-2' d='M 92.7,163.2 L 128.9,192.4' style='fill:none;fill-rule:evenodd;stroke:#000000;stroke-width:2.0px;stroke-linecap:butt;stroke-linejoin:miter;stroke-opacity:1' />\n",
       "<path class='bond-2 atom-2 atom-3' d='M 127.4,202.1 L 179.9,181.8' style='fill:none;fill-rule:evenodd;stroke:#000000;stroke-width:2.0px;stroke-linecap:butt;stroke-linejoin:miter;stroke-opacity:1' />\n",
       "<path class='bond-3 atom-3 atom-4' d='M 179.9,181.8 L 223.8,217.2' style='fill:none;fill-rule:evenodd;stroke:#000000;stroke-width:2.0px;stroke-linecap:butt;stroke-linejoin:miter;stroke-opacity:1' />\n",
       "<path class='bond-3 atom-3 atom-4' d='M 189.0,178.3 L 225.3,207.5' style='fill:none;fill-rule:evenodd;stroke:#000000;stroke-width:2.0px;stroke-linecap:butt;stroke-linejoin:miter;stroke-opacity:1' />\n",
       "<path class='bond-4 atom-4 atom-5' d='M 223.8,217.2 L 276.3,196.9' style='fill:none;fill-rule:evenodd;stroke:#000000;stroke-width:2.0px;stroke-linecap:butt;stroke-linejoin:miter;stroke-opacity:1' />\n",
       "<path class='bond-5 atom-5 atom-6' d='M 276.3,196.9 L 285.0,141.2' style='fill:none;fill-rule:evenodd;stroke:#000000;stroke-width:2.0px;stroke-linecap:butt;stroke-linejoin:miter;stroke-opacity:1' />\n",
       "<path class='bond-5 atom-5 atom-6' d='M 268.7,190.8 L 275.9,144.8' style='fill:none;fill-rule:evenodd;stroke:#000000;stroke-width:2.0px;stroke-linecap:butt;stroke-linejoin:miter;stroke-opacity:1' />\n",
       "<path class='bond-6 atom-6 atom-7' d='M 285.0,141.2 L 241.2,105.9' style='fill:none;fill-rule:evenodd;stroke:#000000;stroke-width:2.0px;stroke-linecap:butt;stroke-linejoin:miter;stroke-opacity:1' />\n",
       "<path class='bond-7 atom-7 atom-8' d='M 241.2,105.9 L 188.6,126.2' style='fill:none;fill-rule:evenodd;stroke:#000000;stroke-width:2.0px;stroke-linecap:butt;stroke-linejoin:miter;stroke-opacity:1' />\n",
       "<path class='bond-7 atom-7 atom-8' d='M 239.7,115.5 L 196.2,132.3' style='fill:none;fill-rule:evenodd;stroke:#000000;stroke-width:2.0px;stroke-linecap:butt;stroke-linejoin:miter;stroke-opacity:1' />\n",
       "<path class='bond-8 atom-8 atom-9' d='M 188.6,126.2 L 170.7,111.7' style='fill:none;fill-rule:evenodd;stroke:#000000;stroke-width:2.0px;stroke-linecap:butt;stroke-linejoin:miter;stroke-opacity:1' />\n",
       "<path class='bond-8 atom-8 atom-9' d='M 170.7,111.7 L 152.7,97.2' style='fill:none;fill-rule:evenodd;stroke:#0000FF;stroke-width:2.0px;stroke-linecap:butt;stroke-linejoin:miter;stroke-opacity:1' />\n",
       "<path class='bond-9 atom-9 atom-10' d='M 136.9,93.9 L 100.2,108.0' style='fill:none;fill-rule:evenodd;stroke:#0000FF;stroke-width:2.0px;stroke-linecap:butt;stroke-linejoin:miter;stroke-opacity:1' />\n",
       "<path class='bond-9 atom-9 atom-10' d='M 140.0,101.8 L 103.2,115.9' style='fill:none;fill-rule:evenodd;stroke:#0000FF;stroke-width:2.0px;stroke-linecap:butt;stroke-linejoin:miter;stroke-opacity:1' />\n",
       "<path class='bond-10 atom-10 atom-1' d='M 90.8,120.9 L 87.2,143.8' style='fill:none;fill-rule:evenodd;stroke:#0000FF;stroke-width:2.0px;stroke-linecap:butt;stroke-linejoin:miter;stroke-opacity:1' />\n",
       "<path class='bond-10 atom-10 atom-1' d='M 87.2,143.8 L 83.6,166.7' style='fill:none;fill-rule:evenodd;stroke:#000000;stroke-width:2.0px;stroke-linecap:butt;stroke-linejoin:miter;stroke-opacity:1' />\n",
       "<path class='bond-11 atom-8 atom-3' d='M 188.6,126.2 L 179.9,181.8' style='fill:none;fill-rule:evenodd;stroke:#000000;stroke-width:2.0px;stroke-linecap:butt;stroke-linejoin:miter;stroke-opacity:1' />\n",
       "<path d='M 125.2,200.3 L 127.4,202.1 L 130.0,201.1' style='fill:none;stroke:#000000;stroke-width:2.0px;stroke-linecap:butt;stroke-linejoin:miter;stroke-opacity:1;' />\n",
       "<path d='M 221.6,215.4 L 223.8,217.2 L 226.4,216.1' style='fill:none;stroke:#000000;stroke-width:2.0px;stroke-linecap:butt;stroke-linejoin:miter;stroke-opacity:1;' />\n",
       "<path d='M 273.7,197.9 L 276.3,196.9 L 276.7,194.1' style='fill:none;stroke:#000000;stroke-width:2.0px;stroke-linecap:butt;stroke-linejoin:miter;stroke-opacity:1;' />\n",
       "<path d='M 284.6,144.0 L 285.0,141.2 L 282.8,139.5' style='fill:none;stroke:#000000;stroke-width:2.0px;stroke-linecap:butt;stroke-linejoin:miter;stroke-opacity:1;' />\n",
       "<path d='M 243.4,107.7 L 241.2,105.9 L 238.5,106.9' style='fill:none;stroke:#000000;stroke-width:2.0px;stroke-linecap:butt;stroke-linejoin:miter;stroke-opacity:1;' />\n",
       "<path class='atom-0' d='M 22.7 186.6\n",
       "Q 24.3 187.0, 25.0 188.0\n",
       "Q 25.8 188.9, 25.8 190.3\n",
       "Q 25.8 192.5, 24.4 193.7\n",
       "Q 23.0 195.0, 20.4 195.0\n",
       "L 15.0 195.0\n",
       "L 15.0 179.0\n",
       "L 19.7 179.0\n",
       "Q 22.4 179.0, 23.8 180.1\n",
       "Q 25.2 181.2, 25.2 183.3\n",
       "Q 25.2 185.7, 22.7 186.6\n",
       "M 17.1 180.8\n",
       "L 17.1 185.8\n",
       "L 19.7 185.8\n",
       "Q 21.3 185.8, 22.1 185.2\n",
       "Q 22.9 184.5, 22.9 183.3\n",
       "Q 22.9 180.8, 19.7 180.8\n",
       "L 17.1 180.8\n",
       "M 20.4 193.2\n",
       "Q 21.9 193.2, 22.7 192.4\n",
       "Q 23.6 191.7, 23.6 190.3\n",
       "Q 23.6 189.0, 22.7 188.3\n",
       "Q 21.8 187.6, 20.0 187.6\n",
       "L 17.1 187.6\n",
       "L 17.1 193.2\n",
       "L 20.4 193.2\n",
       "' fill='#7F4C19'/>\n",
       "<path class='atom-0' d='M 29.5 183.4\n",
       "L 29.7 185.0\n",
       "Q 30.9 183.2, 32.9 183.2\n",
       "Q 33.5 183.2, 34.4 183.4\n",
       "L 34.0 185.3\n",
       "Q 33.1 185.1, 32.5 185.1\n",
       "Q 31.6 185.1, 31.0 185.5\n",
       "Q 30.4 185.8, 29.9 186.7\n",
       "L 29.9 195.0\n",
       "L 27.7 195.0\n",
       "L 27.7 183.4\n",
       "L 29.5 183.4\n",
       "' fill='#7F4C19'/>\n",
       "<path class='atom-9' d='M 141.3 82.8\n",
       "L 146.5 91.3\n",
       "Q 147.0 92.1, 147.9 93.6\n",
       "Q 148.7 95.1, 148.8 95.2\n",
       "L 148.8 82.8\n",
       "L 150.9 82.8\n",
       "L 150.9 98.8\n",
       "L 148.7 98.8\n",
       "L 143.1 89.6\n",
       "Q 142.4 88.5, 141.7 87.2\n",
       "Q 141.1 86.0, 140.8 85.6\n",
       "L 140.8 98.8\n",
       "L 138.8 98.8\n",
       "L 138.8 82.8\n",
       "L 141.3 82.8\n",
       "' fill='#0000FF'/>\n",
       "<path class='atom-10' d='M 88.8 103.1\n",
       "L 94.0 111.6\n",
       "Q 94.5 112.4, 95.3 113.9\n",
       "Q 96.2 115.4, 96.2 115.5\n",
       "L 96.2 103.1\n",
       "L 98.3 103.1\n",
       "L 98.3 119.1\n",
       "L 96.2 119.1\n",
       "L 90.6 109.8\n",
       "Q 89.9 108.8, 89.2 107.5\n",
       "Q 88.5 106.3, 88.3 105.9\n",
       "L 88.3 119.1\n",
       "L 86.2 119.1\n",
       "L 86.2 103.1\n",
       "L 88.8 103.1\n",
       "' fill='#0000FF'/>\n",
       "</svg>\n"
      ],
      "image/svg+xml": "<?xml version='1.0' encoding='iso-8859-1'?>\n<svg version='1.1' baseProfile='full'\n              xmlns='http://www.w3.org/2000/svg'\n                      xmlns:rdkit='http://www.rdkit.org/xml'\n                      xmlns:xlink='http://www.w3.org/1999/xlink'\n                  xml:space='preserve'\nwidth='300px' height='300px' viewBox='0 0 300 300'>\n<!-- END OF HEADER -->\n<rect style='opacity:1.0;fill:#FFFFFF;stroke:none' width='300.0' height='300.0' x='0.0' y='0.0'> </rect>\n<path class='bond-0 atom-0 atom-1' d='M 36.2,185.0 L 59.9,175.9' style='fill:none;fill-rule:evenodd;stroke:#7F4C19;stroke-width:2.0px;stroke-linecap:butt;stroke-linejoin:miter;stroke-opacity:1' />\n<path class='bond-0 atom-0 atom-1' d='M 59.9,175.9 L 83.6,166.7' style='fill:none;fill-rule:evenodd;stroke:#000000;stroke-width:2.0px;stroke-linecap:butt;stroke-linejoin:miter;stroke-opacity:1' />\n<path class='bond-1 atom-1 atom-2' d='M 83.6,166.7 L 127.4,202.1' style='fill:none;fill-rule:evenodd;stroke:#000000;stroke-width:2.0px;stroke-linecap:butt;stroke-linejoin:miter;stroke-opacity:1' />\n<path class='bond-1 atom-1 atom-2' d='M 92.7,163.2 L 128.9,192.4' style='fill:none;fill-rule:evenodd;stroke:#000000;stroke-width:2.0px;stroke-linecap:butt;stroke-linejoin:miter;stroke-opacity:1' />\n<path class='bond-2 atom-2 atom-3' d='M 127.4,202.1 L 179.9,181.8' style='fill:none;fill-rule:evenodd;stroke:#000000;stroke-width:2.0px;stroke-linecap:butt;stroke-linejoin:miter;stroke-opacity:1' />\n<path class='bond-3 atom-3 atom-4' d='M 179.9,181.8 L 223.8,217.2' style='fill:none;fill-rule:evenodd;stroke:#000000;stroke-width:2.0px;stroke-linecap:butt;stroke-linejoin:miter;stroke-opacity:1' />\n<path class='bond-3 atom-3 atom-4' d='M 189.0,178.3 L 225.3,207.5' style='fill:none;fill-rule:evenodd;stroke:#000000;stroke-width:2.0px;stroke-linecap:butt;stroke-linejoin:miter;stroke-opacity:1' />\n<path class='bond-4 atom-4 atom-5' d='M 223.8,217.2 L 276.3,196.9' style='fill:none;fill-rule:evenodd;stroke:#000000;stroke-width:2.0px;stroke-linecap:butt;stroke-linejoin:miter;stroke-opacity:1' />\n<path class='bond-5 atom-5 atom-6' d='M 276.3,196.9 L 285.0,141.2' style='fill:none;fill-rule:evenodd;stroke:#000000;stroke-width:2.0px;stroke-linecap:butt;stroke-linejoin:miter;stroke-opacity:1' />\n<path class='bond-5 atom-5 atom-6' d='M 268.7,190.8 L 275.9,144.8' style='fill:none;fill-rule:evenodd;stroke:#000000;stroke-width:2.0px;stroke-linecap:butt;stroke-linejoin:miter;stroke-opacity:1' />\n<path class='bond-6 atom-6 atom-7' d='M 285.0,141.2 L 241.2,105.9' style='fill:none;fill-rule:evenodd;stroke:#000000;stroke-width:2.0px;stroke-linecap:butt;stroke-linejoin:miter;stroke-opacity:1' />\n<path class='bond-7 atom-7 atom-8' d='M 241.2,105.9 L 188.6,126.2' style='fill:none;fill-rule:evenodd;stroke:#000000;stroke-width:2.0px;stroke-linecap:butt;stroke-linejoin:miter;stroke-opacity:1' />\n<path class='bond-7 atom-7 atom-8' d='M 239.7,115.5 L 196.2,132.3' style='fill:none;fill-rule:evenodd;stroke:#000000;stroke-width:2.0px;stroke-linecap:butt;stroke-linejoin:miter;stroke-opacity:1' />\n<path class='bond-8 atom-8 atom-9' d='M 188.6,126.2 L 170.7,111.7' style='fill:none;fill-rule:evenodd;stroke:#000000;stroke-width:2.0px;stroke-linecap:butt;stroke-linejoin:miter;stroke-opacity:1' />\n<path class='bond-8 atom-8 atom-9' d='M 170.7,111.7 L 152.7,97.2' style='fill:none;fill-rule:evenodd;stroke:#0000FF;stroke-width:2.0px;stroke-linecap:butt;stroke-linejoin:miter;stroke-opacity:1' />\n<path class='bond-9 atom-9 atom-10' d='M 136.9,93.9 L 100.2,108.0' style='fill:none;fill-rule:evenodd;stroke:#0000FF;stroke-width:2.0px;stroke-linecap:butt;stroke-linejoin:miter;stroke-opacity:1' />\n<path class='bond-9 atom-9 atom-10' d='M 140.0,101.8 L 103.2,115.9' style='fill:none;fill-rule:evenodd;stroke:#0000FF;stroke-width:2.0px;stroke-linecap:butt;stroke-linejoin:miter;stroke-opacity:1' />\n<path class='bond-10 atom-10 atom-1' d='M 90.8,120.9 L 87.2,143.8' style='fill:none;fill-rule:evenodd;stroke:#0000FF;stroke-width:2.0px;stroke-linecap:butt;stroke-linejoin:miter;stroke-opacity:1' />\n<path class='bond-10 atom-10 atom-1' d='M 87.2,143.8 L 83.6,166.7' style='fill:none;fill-rule:evenodd;stroke:#000000;stroke-width:2.0px;stroke-linecap:butt;stroke-linejoin:miter;stroke-opacity:1' />\n<path class='bond-11 atom-8 atom-3' d='M 188.6,126.2 L 179.9,181.8' style='fill:none;fill-rule:evenodd;stroke:#000000;stroke-width:2.0px;stroke-linecap:butt;stroke-linejoin:miter;stroke-opacity:1' />\n<path d='M 125.2,200.3 L 127.4,202.1 L 130.0,201.1' style='fill:none;stroke:#000000;stroke-width:2.0px;stroke-linecap:butt;stroke-linejoin:miter;stroke-opacity:1;' />\n<path d='M 221.6,215.4 L 223.8,217.2 L 226.4,216.1' style='fill:none;stroke:#000000;stroke-width:2.0px;stroke-linecap:butt;stroke-linejoin:miter;stroke-opacity:1;' />\n<path d='M 273.7,197.9 L 276.3,196.9 L 276.7,194.1' style='fill:none;stroke:#000000;stroke-width:2.0px;stroke-linecap:butt;stroke-linejoin:miter;stroke-opacity:1;' />\n<path d='M 284.6,144.0 L 285.0,141.2 L 282.8,139.5' style='fill:none;stroke:#000000;stroke-width:2.0px;stroke-linecap:butt;stroke-linejoin:miter;stroke-opacity:1;' />\n<path d='M 243.4,107.7 L 241.2,105.9 L 238.5,106.9' style='fill:none;stroke:#000000;stroke-width:2.0px;stroke-linecap:butt;stroke-linejoin:miter;stroke-opacity:1;' />\n<path class='atom-0' d='M 22.7 186.6\nQ 24.3 187.0, 25.0 188.0\nQ 25.8 188.9, 25.8 190.3\nQ 25.8 192.5, 24.4 193.7\nQ 23.0 195.0, 20.4 195.0\nL 15.0 195.0\nL 15.0 179.0\nL 19.7 179.0\nQ 22.4 179.0, 23.8 180.1\nQ 25.2 181.2, 25.2 183.3\nQ 25.2 185.7, 22.7 186.6\nM 17.1 180.8\nL 17.1 185.8\nL 19.7 185.8\nQ 21.3 185.8, 22.1 185.2\nQ 22.9 184.5, 22.9 183.3\nQ 22.9 180.8, 19.7 180.8\nL 17.1 180.8\nM 20.4 193.2\nQ 21.9 193.2, 22.7 192.4\nQ 23.6 191.7, 23.6 190.3\nQ 23.6 189.0, 22.7 188.3\nQ 21.8 187.6, 20.0 187.6\nL 17.1 187.6\nL 17.1 193.2\nL 20.4 193.2\n' fill='#7F4C19'/>\n<path class='atom-0' d='M 29.5 183.4\nL 29.7 185.0\nQ 30.9 183.2, 32.9 183.2\nQ 33.5 183.2, 34.4 183.4\nL 34.0 185.3\nQ 33.1 185.1, 32.5 185.1\nQ 31.6 185.1, 31.0 185.5\nQ 30.4 185.8, 29.9 186.7\nL 29.9 195.0\nL 27.7 195.0\nL 27.7 183.4\nL 29.5 183.4\n' fill='#7F4C19'/>\n<path class='atom-9' d='M 141.3 82.8\nL 146.5 91.3\nQ 147.0 92.1, 147.9 93.6\nQ 148.7 95.1, 148.8 95.2\nL 148.8 82.8\nL 150.9 82.8\nL 150.9 98.8\nL 148.7 98.8\nL 143.1 89.6\nQ 142.4 88.5, 141.7 87.2\nQ 141.1 86.0, 140.8 85.6\nL 140.8 98.8\nL 138.8 98.8\nL 138.8 82.8\nL 141.3 82.8\n' fill='#0000FF'/>\n<path class='atom-10' d='M 88.8 103.1\nL 94.0 111.6\nQ 94.5 112.4, 95.3 113.9\nQ 96.2 115.4, 96.2 115.5\nL 96.2 103.1\nL 98.3 103.1\nL 98.3 119.1\nL 96.2 119.1\nL 90.6 109.8\nQ 89.9 108.8, 89.2 107.5\nQ 88.5 106.3, 88.3 105.9\nL 88.3 119.1\nL 86.2 119.1\nL 86.2 103.1\nL 88.8 103.1\n' fill='#0000FF'/>\n</svg>\n",
      "image/png": "[encoded data removed]"
     },
     "execution_count": 145,
     "metadata": {},
     "output_type": "execute_result"
    }
   ],
   "execution_count": 145
  },
  {
   "metadata": {
    "ExecuteTime": {
     "end_time": "2024-11-17T19:51:06.291708Z",
     "start_time": "2024-11-17T19:51:06.285644Z"
    }
   },
   "cell_type": "code",
   "source": [
    "# explicitly add protons to mol-object (we may want to do this in order to get them as nodes in our graphs)\n",
    "dummy_mol_protons = AddHs(dummy_mol)\n",
    "\n",
    "dummy_mol_protons"
   ],
   "id": "86326bfaee1fb9b7",
   "outputs": [
    {
     "data": {
      "text/plain": [
       "<rdkit.Chem.rdchem.Mol at 0x358e844a0>"
      ],
      "text/html": [
       "<?xml version='1.0' encoding='iso-8859-1'?>\n",
       "<svg version='1.1' baseProfile='full'\n",
       "              xmlns='http://www.w3.org/2000/svg'\n",
       "                      xmlns:rdkit='http://www.rdkit.org/xml'\n",
       "                      xmlns:xlink='http://www.w3.org/1999/xlink'\n",
       "                  xml:space='preserve'\n",
       "width='300px' height='300px' viewBox='0 0 300 300'>\n",
       "<!-- END OF HEADER -->\n",
       "<rect style='opacity:1.0;fill:#FFFFFF;stroke:none' width='300.0' height='300.0' x='0.0' y='0.0'> </rect>\n",
       "<path class='bond-0 atom-0 atom-1' d='M 267.7,150.7 L 248.5,145.7' style='fill:none;fill-rule:evenodd;stroke:#7F4C19;stroke-width:2.0px;stroke-linecap:butt;stroke-linejoin:miter;stroke-opacity:1' />\n",
       "<path class='bond-0 atom-0 atom-1' d='M 248.5,145.7 L 229.4,140.7' style='fill:none;fill-rule:evenodd;stroke:#000000;stroke-width:2.0px;stroke-linecap:butt;stroke-linejoin:miter;stroke-opacity:1' />\n",
       "<path class='bond-1 atom-1 atom-2' d='M 229.4,140.7 L 197.2,173.2' style='fill:none;fill-rule:evenodd;stroke:#000000;stroke-width:2.0px;stroke-linecap:butt;stroke-linejoin:miter;stroke-opacity:1' />\n",
       "<path class='bond-1 atom-1 atom-2' d='M 221.7,138.6 L 195.1,165.6' style='fill:none;fill-rule:evenodd;stroke:#000000;stroke-width:2.0px;stroke-linecap:butt;stroke-linejoin:miter;stroke-opacity:1' />\n",
       "<path class='bond-2 atom-2 atom-3' d='M 197.2,173.2 L 152.9,161.6' style='fill:none;fill-rule:evenodd;stroke:#000000;stroke-width:2.0px;stroke-linecap:butt;stroke-linejoin:miter;stroke-opacity:1' />\n",
       "<path class='bond-3 atom-3 atom-4' d='M 152.9,161.6 L 120.7,194.1' style='fill:none;fill-rule:evenodd;stroke:#000000;stroke-width:2.0px;stroke-linecap:butt;stroke-linejoin:miter;stroke-opacity:1' />\n",
       "<path class='bond-3 atom-3 atom-4' d='M 145.2,159.6 L 118.6,186.5' style='fill:none;fill-rule:evenodd;stroke:#000000;stroke-width:2.0px;stroke-linecap:butt;stroke-linejoin:miter;stroke-opacity:1' />\n",
       "<path class='bond-4 atom-4 atom-5' d='M 120.7,194.1 L 76.4,182.5' style='fill:none;fill-rule:evenodd;stroke:#000000;stroke-width:2.0px;stroke-linecap:butt;stroke-linejoin:miter;stroke-opacity:1' />\n",
       "<path class='bond-5 atom-5 atom-6' d='M 76.4,182.5 L 64.3,138.4' style='fill:none;fill-rule:evenodd;stroke:#000000;stroke-width:2.0px;stroke-linecap:butt;stroke-linejoin:miter;stroke-opacity:1' />\n",
       "<path class='bond-5 atom-5 atom-6' d='M 82.0,176.9 L 72.0,140.4' style='fill:none;fill-rule:evenodd;stroke:#000000;stroke-width:2.0px;stroke-linecap:butt;stroke-linejoin:miter;stroke-opacity:1' />\n",
       "<path class='bond-6 atom-6 atom-7' d='M 64.3,138.4 L 96.5,105.9' style='fill:none;fill-rule:evenodd;stroke:#000000;stroke-width:2.0px;stroke-linecap:butt;stroke-linejoin:miter;stroke-opacity:1' />\n",
       "<path class='bond-7 atom-7 atom-8' d='M 96.5,105.9 L 140.8,117.5' style='fill:none;fill-rule:evenodd;stroke:#000000;stroke-width:2.0px;stroke-linecap:butt;stroke-linejoin:miter;stroke-opacity:1' />\n",
       "<path class='bond-7 atom-7 atom-8' d='M 98.6,113.5 L 135.2,123.1' style='fill:none;fill-rule:evenodd;stroke:#000000;stroke-width:2.0px;stroke-linecap:butt;stroke-linejoin:miter;stroke-opacity:1' />\n",
       "<path class='bond-8 atom-8 atom-9' d='M 140.8,117.5 L 153.7,104.4' style='fill:none;fill-rule:evenodd;stroke:#000000;stroke-width:2.0px;stroke-linecap:butt;stroke-linejoin:miter;stroke-opacity:1' />\n",
       "<path class='bond-8 atom-8 atom-9' d='M 153.7,104.4 L 166.6,91.4' style='fill:none;fill-rule:evenodd;stroke:#0000FF;stroke-width:2.0px;stroke-linecap:butt;stroke-linejoin:miter;stroke-opacity:1' />\n",
       "<path class='bond-9 atom-9 atom-10' d='M 179.4,86.6 L 210.8,94.8' style='fill:none;fill-rule:evenodd;stroke:#0000FF;stroke-width:2.0px;stroke-linecap:butt;stroke-linejoin:miter;stroke-opacity:1' />\n",
       "<path class='bond-9 atom-9 atom-10' d='M 177.7,93.2 L 209.1,101.5' style='fill:none;fill-rule:evenodd;stroke:#0000FF;stroke-width:2.0px;stroke-linecap:butt;stroke-linejoin:miter;stroke-opacity:1' />\n",
       "<path class='bond-10 atom-10 atom-1' d='M 219.5,104.5 L 224.4,122.6' style='fill:none;fill-rule:evenodd;stroke:#0000FF;stroke-width:2.0px;stroke-linecap:butt;stroke-linejoin:miter;stroke-opacity:1' />\n",
       "<path class='bond-10 atom-10 atom-1' d='M 224.4,122.6 L 229.4,140.7' style='fill:none;fill-rule:evenodd;stroke:#000000;stroke-width:2.0px;stroke-linecap:butt;stroke-linejoin:miter;stroke-opacity:1' />\n",
       "<path class='bond-11 atom-8 atom-3' d='M 140.8,117.5 L 152.9,161.6' style='fill:none;fill-rule:evenodd;stroke:#000000;stroke-width:2.0px;stroke-linecap:butt;stroke-linejoin:miter;stroke-opacity:1' />\n",
       "<path class='bond-12 atom-2 atom-11' d='M 197.2,173.2 L 207.1,209.4' style='fill:none;fill-rule:evenodd;stroke:#000000;stroke-width:2.0px;stroke-linecap:butt;stroke-linejoin:miter;stroke-opacity:1' />\n",
       "<path class='bond-13 atom-4 atom-12' d='M 120.7,194.1 L 130.6,230.3' style='fill:none;fill-rule:evenodd;stroke:#000000;stroke-width:2.0px;stroke-linecap:butt;stroke-linejoin:miter;stroke-opacity:1' />\n",
       "<path class='bond-14 atom-5 atom-13' d='M 76.4,182.5 L 50.8,208.4' style='fill:none;fill-rule:evenodd;stroke:#000000;stroke-width:2.0px;stroke-linecap:butt;stroke-linejoin:miter;stroke-opacity:1' />\n",
       "<path class='bond-15 atom-6 atom-14' d='M 64.3,138.4 L 26.7,128.5' style='fill:none;fill-rule:evenodd;stroke:#000000;stroke-width:2.0px;stroke-linecap:butt;stroke-linejoin:miter;stroke-opacity:1' />\n",
       "<path class='bond-16 atom-7 atom-15' d='M 96.5,105.9 L 86.6,69.7' style='fill:none;fill-rule:evenodd;stroke:#000000;stroke-width:2.0px;stroke-linecap:butt;stroke-linejoin:miter;stroke-opacity:1' />\n",
       "<path class='atom-0' d='M 275.5 151.9\n",
       "Q 276.8 152.3, 277.4 153.0\n",
       "Q 278.0 153.8, 278.0 154.9\n",
       "Q 278.0 156.7, 276.9 157.7\n",
       "Q 275.8 158.7, 273.6 158.7\n",
       "L 269.2 158.7\n",
       "L 269.2 145.8\n",
       "L 273.1 145.8\n",
       "Q 275.3 145.8, 276.4 146.7\n",
       "Q 277.5 147.6, 277.5 149.2\n",
       "Q 277.5 151.2, 275.5 151.9\n",
       "M 271.0 147.2\n",
       "L 271.0 151.3\n",
       "L 273.1 151.3\n",
       "Q 274.3 151.3, 275.0 150.8\n",
       "Q 275.7 150.3, 275.7 149.2\n",
       "Q 275.7 147.2, 273.1 147.2\n",
       "L 271.0 147.2\n",
       "M 273.6 157.3\n",
       "Q 274.9 157.3, 275.5 156.7\n",
       "Q 276.2 156.1, 276.2 154.9\n",
       "Q 276.2 153.8, 275.5 153.3\n",
       "Q 274.7 152.8, 273.3 152.8\n",
       "L 271.0 152.8\n",
       "L 271.0 157.3\n",
       "L 273.6 157.3\n",
       "' fill='#7F4C19'/>\n",
       "<path class='atom-0' d='M 281.0 149.3\n",
       "L 281.2 150.6\n",
       "Q 282.2 149.2, 283.8 149.2\n",
       "Q 284.3 149.2, 285.0 149.3\n",
       "L 284.7 150.9\n",
       "Q 283.9 150.7, 283.5 150.7\n",
       "Q 282.7 150.7, 282.2 151.0\n",
       "Q 281.7 151.3, 281.3 152.0\n",
       "L 281.3 158.7\n",
       "L 279.6 158.7\n",
       "L 279.6 149.3\n",
       "L 281.0 149.3\n",
       "' fill='#7F4C19'/>\n",
       "<path class='atom-9' d='M 170.1 78.4\n",
       "L 174.4 85.3\n",
       "Q 174.8 86.0, 175.5 87.2\n",
       "Q 176.2 88.4, 176.2 88.5\n",
       "L 176.2 78.4\n",
       "L 177.9 78.4\n",
       "L 177.9 91.4\n",
       "L 176.1 91.4\n",
       "L 171.6 83.9\n",
       "Q 171.0 83.0, 170.5 82.0\n",
       "Q 169.9 81.0, 169.8 80.7\n",
       "L 169.8 91.4\n",
       "L 168.1 91.4\n",
       "L 168.1 78.4\n",
       "L 170.1 78.4\n",
       "' fill='#0000FF'/>\n",
       "<path class='atom-10' d='M 214.4 90.0\n",
       "L 218.7 96.9\n",
       "Q 219.1 97.6, 219.8 98.8\n",
       "Q 220.4 100.0, 220.5 100.1\n",
       "L 220.5 90.0\n",
       "L 222.2 90.0\n",
       "L 222.2 103.0\n",
       "L 220.4 103.0\n",
       "L 215.9 95.5\n",
       "Q 215.3 94.6, 214.8 93.6\n",
       "Q 214.2 92.6, 214.0 92.3\n",
       "L 214.0 103.0\n",
       "L 212.4 103.0\n",
       "L 212.4 90.0\n",
       "L 214.4 90.0\n",
       "' fill='#0000FF'/>\n",
       "<path class='atom-11' d='M 204.2 210.9\n",
       "L 206.0 210.9\n",
       "L 206.0 216.4\n",
       "L 212.6 216.4\n",
       "L 212.6 210.9\n",
       "L 214.3 210.9\n",
       "L 214.3 223.8\n",
       "L 212.6 223.8\n",
       "L 212.6 217.8\n",
       "L 206.0 217.8\n",
       "L 206.0 223.8\n",
       "L 204.2 223.8\n",
       "L 204.2 210.9\n",
       "' fill='#000000'/>\n",
       "<path class='atom-12' d='M 127.7 231.8\n",
       "L 129.5 231.8\n",
       "L 129.5 237.3\n",
       "L 136.1 237.3\n",
       "L 136.1 231.8\n",
       "L 137.9 231.8\n",
       "L 137.9 244.8\n",
       "L 136.1 244.8\n",
       "L 136.1 238.8\n",
       "L 129.5 238.8\n",
       "L 129.5 244.8\n",
       "L 127.7 244.8\n",
       "L 127.7 231.8\n",
       "' fill='#000000'/>\n",
       "<path class='atom-13' d='M 39.2 208.6\n",
       "L 40.9 208.6\n",
       "L 40.9 214.1\n",
       "L 47.6 214.1\n",
       "L 47.6 208.6\n",
       "L 49.3 208.6\n",
       "L 49.3 221.6\n",
       "L 47.6 221.6\n",
       "L 47.6 215.6\n",
       "L 40.9 215.6\n",
       "L 40.9 221.6\n",
       "L 39.2 221.6\n",
       "L 39.2 208.6\n",
       "' fill='#000000'/>\n",
       "<path class='atom-14' d='M 15.0 120.3\n",
       "L 16.8 120.3\n",
       "L 16.8 125.8\n",
       "L 23.4 125.8\n",
       "L 23.4 120.3\n",
       "L 25.1 120.3\n",
       "L 25.1 133.3\n",
       "L 23.4 133.3\n",
       "L 23.4 127.3\n",
       "L 16.8 127.3\n",
       "L 16.8 133.3\n",
       "L 15.0 133.3\n",
       "L 15.0 120.3\n",
       "' fill='#000000'/>\n",
       "<path class='atom-15' d='M 79.4 55.2\n",
       "L 81.1 55.2\n",
       "L 81.1 60.7\n",
       "L 87.8 60.7\n",
       "L 87.8 55.2\n",
       "L 89.5 55.2\n",
       "L 89.5 68.2\n",
       "L 87.8 68.2\n",
       "L 87.8 62.2\n",
       "L 81.1 62.2\n",
       "L 81.1 68.2\n",
       "L 79.4 68.2\n",
       "L 79.4 55.2\n",
       "' fill='#000000'/>\n",
       "</svg>\n"
      ],
      "image/svg+xml": "<?xml version='1.0' encoding='iso-8859-1'?>\n<svg version='1.1' baseProfile='full'\n              xmlns='http://www.w3.org/2000/svg'\n                      xmlns:rdkit='http://www.rdkit.org/xml'\n                      xmlns:xlink='http://www.w3.org/1999/xlink'\n                  xml:space='preserve'\nwidth='300px' height='300px' viewBox='0 0 300 300'>\n<!-- END OF HEADER -->\n<rect style='opacity:1.0;fill:#FFFFFF;stroke:none' width='300.0' height='300.0' x='0.0' y='0.0'> </rect>\n<path class='bond-0 atom-0 atom-1' d='M 267.7,150.7 L 248.5,145.7' style='fill:none;fill-rule:evenodd;stroke:#7F4C19;stroke-width:2.0px;stroke-linecap:butt;stroke-linejoin:miter;stroke-opacity:1' />\n<path class='bond-0 atom-0 atom-1' d='M 248.5,145.7 L 229.4,140.7' style='fill:none;fill-rule:evenodd;stroke:#000000;stroke-width:2.0px;stroke-linecap:butt;stroke-linejoin:miter;stroke-opacity:1' />\n<path class='bond-1 atom-1 atom-2' d='M 229.4,140.7 L 197.2,173.2' style='fill:none;fill-rule:evenodd;stroke:#000000;stroke-width:2.0px;stroke-linecap:butt;stroke-linejoin:miter;stroke-opacity:1' />\n<path class='bond-1 atom-1 atom-2' d='M 221.7,138.6 L 195.1,165.6' style='fill:none;fill-rule:evenodd;stroke:#000000;stroke-width:2.0px;stroke-linecap:butt;stroke-linejoin:miter;stroke-opacity:1' />\n<path class='bond-2 atom-2 atom-3' d='M 197.2,173.2 L 152.9,161.6' style='fill:none;fill-rule:evenodd;stroke:#000000;stroke-width:2.0px;stroke-linecap:butt;stroke-linejoin:miter;stroke-opacity:1' />\n<path class='bond-3 atom-3 atom-4' d='M 152.9,161.6 L 120.7,194.1' style='fill:none;fill-rule:evenodd;stroke:#000000;stroke-width:2.0px;stroke-linecap:butt;stroke-linejoin:miter;stroke-opacity:1' />\n<path class='bond-3 atom-3 atom-4' d='M 145.2,159.6 L 118.6,186.5' style='fill:none;fill-rule:evenodd;stroke:#000000;stroke-width:2.0px;stroke-linecap:butt;stroke-linejoin:miter;stroke-opacity:1' />\n<path class='bond-4 atom-4 atom-5' d='M 120.7,194.1 L 76.4,182.5' style='fill:none;fill-rule:evenodd;stroke:#000000;stroke-width:2.0px;stroke-linecap:butt;stroke-linejoin:miter;stroke-opacity:1' />\n<path class='bond-5 atom-5 atom-6' d='M 76.4,182.5 L 64.3,138.4' style='fill:none;fill-rule:evenodd;stroke:#000000;stroke-width:2.0px;stroke-linecap:butt;stroke-linejoin:miter;stroke-opacity:1' />\n<path class='bond-5 atom-5 atom-6' d='M 82.0,176.9 L 72.0,140.4' style='fill:none;fill-rule:evenodd;stroke:#000000;stroke-width:2.0px;stroke-linecap:butt;stroke-linejoin:miter;stroke-opacity:1' />\n<path class='bond-6 atom-6 atom-7' d='M 64.3,138.4 L 96.5,105.9' style='fill:none;fill-rule:evenodd;stroke:#000000;stroke-width:2.0px;stroke-linecap:butt;stroke-linejoin:miter;stroke-opacity:1' />\n<path class='bond-7 atom-7 atom-8' d='M 96.5,105.9 L 140.8,117.5' style='fill:none;fill-rule:evenodd;stroke:#000000;stroke-width:2.0px;stroke-linecap:butt;stroke-linejoin:miter;stroke-opacity:1' />\n<path class='bond-7 atom-7 atom-8' d='M 98.6,113.5 L 135.2,123.1' style='fill:none;fill-rule:evenodd;stroke:#000000;stroke-width:2.0px;stroke-linecap:butt;stroke-linejoin:miter;stroke-opacity:1' />\n<path class='bond-8 atom-8 atom-9' d='M 140.8,117.5 L 153.7,104.4' style='fill:none;fill-rule:evenodd;stroke:#000000;stroke-width:2.0px;stroke-linecap:butt;stroke-linejoin:miter;stroke-opacity:1' />\n<path class='bond-8 atom-8 atom-9' d='M 153.7,104.4 L 166.6,91.4' style='fill:none;fill-rule:evenodd;stroke:#0000FF;stroke-width:2.0px;stroke-linecap:butt;stroke-linejoin:miter;stroke-opacity:1' />\n<path class='bond-9 atom-9 atom-10' d='M 179.4,86.6 L 210.8,94.8' style='fill:none;fill-rule:evenodd;stroke:#0000FF;stroke-width:2.0px;stroke-linecap:butt;stroke-linejoin:miter;stroke-opacity:1' />\n<path class='bond-9 atom-9 atom-10' d='M 177.7,93.2 L 209.1,101.5' style='fill:none;fill-rule:evenodd;stroke:#0000FF;stroke-width:2.0px;stroke-linecap:butt;stroke-linejoin:miter;stroke-opacity:1' />\n<path class='bond-10 atom-10 atom-1' d='M 219.5,104.5 L 224.4,122.6' style='fill:none;fill-rule:evenodd;stroke:#0000FF;stroke-width:2.0px;stroke-linecap:butt;stroke-linejoin:miter;stroke-opacity:1' />\n<path class='bond-10 atom-10 atom-1' d='M 224.4,122.6 L 229.4,140.7' style='fill:none;fill-rule:evenodd;stroke:#000000;stroke-width:2.0px;stroke-linecap:butt;stroke-linejoin:miter;stroke-opacity:1' />\n<path class='bond-11 atom-8 atom-3' d='M 140.8,117.5 L 152.9,161.6' style='fill:none;fill-rule:evenodd;stroke:#000000;stroke-width:2.0px;stroke-linecap:butt;stroke-linejoin:miter;stroke-opacity:1' />\n<path class='bond-12 atom-2 atom-11' d='M 197.2,173.2 L 207.1,209.4' style='fill:none;fill-rule:evenodd;stroke:#000000;stroke-width:2.0px;stroke-linecap:butt;stroke-linejoin:miter;stroke-opacity:1' />\n<path class='bond-13 atom-4 atom-12' d='M 120.7,194.1 L 130.6,230.3' style='fill:none;fill-rule:evenodd;stroke:#000000;stroke-width:2.0px;stroke-linecap:butt;stroke-linejoin:miter;stroke-opacity:1' />\n<path class='bond-14 atom-5 atom-13' d='M 76.4,182.5 L 50.8,208.4' style='fill:none;fill-rule:evenodd;stroke:#000000;stroke-width:2.0px;stroke-linecap:butt;stroke-linejoin:miter;stroke-opacity:1' />\n<path class='bond-15 atom-6 atom-14' d='M 64.3,138.4 L 26.7,128.5' style='fill:none;fill-rule:evenodd;stroke:#000000;stroke-width:2.0px;stroke-linecap:butt;stroke-linejoin:miter;stroke-opacity:1' />\n<path class='bond-16 atom-7 atom-15' d='M 96.5,105.9 L 86.6,69.7' style='fill:none;fill-rule:evenodd;stroke:#000000;stroke-width:2.0px;stroke-linecap:butt;stroke-linejoin:miter;stroke-opacity:1' />\n<path class='atom-0' d='M 275.5 151.9\nQ 276.8 152.3, 277.4 153.0\nQ 278.0 153.8, 278.0 154.9\nQ 278.0 156.7, 276.9 157.7\nQ 275.8 158.7, 273.6 158.7\nL 269.2 158.7\nL 269.2 145.8\nL 273.1 145.8\nQ 275.3 145.8, 276.4 146.7\nQ 277.5 147.6, 277.5 149.2\nQ 277.5 151.2, 275.5 151.9\nM 271.0 147.2\nL 271.0 151.3\nL 273.1 151.3\nQ 274.3 151.3, 275.0 150.8\nQ 275.7 150.3, 275.7 149.2\nQ 275.7 147.2, 273.1 147.2\nL 271.0 147.2\nM 273.6 157.3\nQ 274.9 157.3, 275.5 156.7\nQ 276.2 156.1, 276.2 154.9\nQ 276.2 153.8, 275.5 153.3\nQ 274.7 152.8, 273.3 152.8\nL 271.0 152.8\nL 271.0 157.3\nL 273.6 157.3\n' fill='#7F4C19'/>\n<path class='atom-0' d='M 281.0 149.3\nL 281.2 150.6\nQ 282.2 149.2, 283.8 149.2\nQ 284.3 149.2, 285.0 149.3\nL 284.7 150.9\nQ 283.9 150.7, 283.5 150.7\nQ 282.7 150.7, 282.2 151.0\nQ 281.7 151.3, 281.3 152.0\nL 281.3 158.7\nL 279.6 158.7\nL 279.6 149.3\nL 281.0 149.3\n' fill='#7F4C19'/>\n<path class='atom-9' d='M 170.1 78.4\nL 174.4 85.3\nQ 174.8 86.0, 175.5 87.2\nQ 176.2 88.4, 176.2 88.5\nL 176.2 78.4\nL 177.9 78.4\nL 177.9 91.4\nL 176.1 91.4\nL 171.6 83.9\nQ 171.0 83.0, 170.5 82.0\nQ 169.9 81.0, 169.8 80.7\nL 169.8 91.4\nL 168.1 91.4\nL 168.1 78.4\nL 170.1 78.4\n' fill='#0000FF'/>\n<path class='atom-10' d='M 214.4 90.0\nL 218.7 96.9\nQ 219.1 97.6, 219.8 98.8\nQ 220.4 100.0, 220.5 100.1\nL 220.5 90.0\nL 222.2 90.0\nL 222.2 103.0\nL 220.4 103.0\nL 215.9 95.5\nQ 215.3 94.6, 214.8 93.6\nQ 214.2 92.6, 214.0 92.3\nL 214.0 103.0\nL 212.4 103.0\nL 212.4 90.0\nL 214.4 90.0\n' fill='#0000FF'/>\n<path class='atom-11' d='M 204.2 210.9\nL 206.0 210.9\nL 206.0 216.4\nL 212.6 216.4\nL 212.6 210.9\nL 214.3 210.9\nL 214.3 223.8\nL 212.6 223.8\nL 212.6 217.8\nL 206.0 217.8\nL 206.0 223.8\nL 204.2 223.8\nL 204.2 210.9\n' fill='#000000'/>\n<path class='atom-12' d='M 127.7 231.8\nL 129.5 231.8\nL 129.5 237.3\nL 136.1 237.3\nL 136.1 231.8\nL 137.9 231.8\nL 137.9 244.8\nL 136.1 244.8\nL 136.1 238.8\nL 129.5 238.8\nL 129.5 244.8\nL 127.7 244.8\nL 127.7 231.8\n' fill='#000000'/>\n<path class='atom-13' d='M 39.2 208.6\nL 40.9 208.6\nL 40.9 214.1\nL 47.6 214.1\nL 47.6 208.6\nL 49.3 208.6\nL 49.3 221.6\nL 47.6 221.6\nL 47.6 215.6\nL 40.9 215.6\nL 40.9 221.6\nL 39.2 221.6\nL 39.2 208.6\n' fill='#000000'/>\n<path class='atom-14' d='M 15.0 120.3\nL 16.8 120.3\nL 16.8 125.8\nL 23.4 125.8\nL 23.4 120.3\nL 25.1 120.3\nL 25.1 133.3\nL 23.4 133.3\nL 23.4 127.3\nL 16.8 127.3\nL 16.8 133.3\nL 15.0 133.3\nL 15.0 120.3\n' fill='#000000'/>\n<path class='atom-15' d='M 79.4 55.2\nL 81.1 55.2\nL 81.1 60.7\nL 87.8 60.7\nL 87.8 55.2\nL 89.5 55.2\nL 89.5 68.2\nL 87.8 68.2\nL 87.8 62.2\nL 81.1 62.2\nL 81.1 68.2\nL 79.4 68.2\nL 79.4 55.2\n' fill='#000000'/>\n</svg>\n",
      "image/png": "[encoded data removed]"
     },
     "execution_count": 146,
     "metadata": {},
     "output_type": "execute_result"
    }
   ],
   "execution_count": 146
  },
  {
   "metadata": {},
   "cell_type": "markdown",
   "source": [
    "check the dgllife docs to see what features are extracted for the nodes and edges:\n",
    "\n",
    "[mol_to_bigraph](https://lifesci.dgl.ai/generated/dgllife.utils.mol_to_bigraph.html#dgllife.utils.mol_to_bigraph)\n",
    "\n",
    "[CanonicalAtomFeaturizer](https://lifesci.dgl.ai/generated/dgllife.utils.CanonicalAtomFeaturizer.html)\n",
    "\n",
    "[CanoncalBondFeaturizer](https://lifesci.dgl.ai/generated/dgllife.utils.CanonicalBondFeaturizer.html)\n"
   ],
   "id": "a79e8573194ead9b"
  },
  {
   "metadata": {
    "ExecuteTime": {
     "end_time": "2024-11-17T19:51:06.318263Z",
     "start_time": "2024-11-17T19:51:06.313930Z"
    }
   },
   "cell_type": "code",
   "source": [
    "# get DGL-Graph\n",
    "atom_featurizer = CanonicalAtomFeaturizer()\n",
    "bond_featurizer = CanonicalBondFeaturizer()\n",
    "dgl_graph = mol_to_bigraph(dummy_mol, node_featurizer=atom_featurizer, edge_featurizer=bond_featurizer)"
   ],
   "id": "76872e78dfcfb569",
   "outputs": [],
   "execution_count": 147
  },
  {
   "metadata": {
    "ExecuteTime": {
     "end_time": "2024-11-17T19:51:06.328527Z",
     "start_time": "2024-11-17T19:51:06.325354Z"
    }
   },
   "cell_type": "code",
   "source": [
    "#\n",
    "#   \"explore\" dgl graph\n",
    "#\n",
    "\n",
    "# dgl graph type\n",
    "print('Type of created DGL Graph:\\n')\n",
    "print(type(dgl_graph))\n",
    "print('='*100)\n",
    "\n",
    "# dgl graph info\n",
    "print('Displaying DGL Graph:\\n') # We have 11 atoms --> 11 nodes, we have 12 bounds in total between all the atoms (information about bonds, e.g. double bond are edge features), since the bounds are bidirectional we end up by 12*2=24 edges.\n",
    "print(dgl_graph)\n",
    "print('='*100)\n",
    "\n",
    "# get node data\n",
    "#print('Display Node Tensors:\\n')\n",
    "#print(dgl_graph.ndata['h'])    # this returns the tensors\n",
    "print('Get Shape and Type of Node Tensors:\\n')\n",
    "print(dgl_graph.ndata['h'].shape) # 11 Tensors with each having 74 dimensions\n",
    "print(type(dgl_graph.ndata['h']))\n",
    "print('='*100)\n",
    "\n",
    "# get edge data\n",
    "print('Display Edge Tensors:\\n')\n",
    "#print(dgl_graph.edata['e'])\n",
    "\n",
    "print('Get Shape and Type of Edge Tensors:\\n')\n",
    "print(dgl_graph.edata['e'].shape) # 24 Tensors each having 12 dimensions\n",
    "print(type(dgl_graph.edata['e']))\n",
    "print('='*100)\n",
    "\n",
    "# get number of nodes and edges directly\n",
    "print(f'Number of nodes in Graph: {dgl_graph.number_of_nodes()}')\n",
    "print(f'Number of edges in Graph: {dgl_graph.number_of_edges()}')\n"
   ],
   "id": "2f59743fa577a2fa",
   "outputs": [
    {
     "name": "stdout",
     "output_type": "stream",
     "text": [
      "Type of created DGL Graph:\n",
      "\n",
      "<class 'dgl.heterograph.DGLGraph'>\n",
      "====================================================================================================\n",
      "Displaying DGL Graph:\n",
      "\n",
      "Graph(num_nodes=11, num_edges=24,\n",
      "      ndata_schemes={'h': Scheme(shape=(74,), dtype=torch.float32)}\n",
      "      edata_schemes={'e': Scheme(shape=(12,), dtype=torch.float32)})\n",
      "====================================================================================================\n",
      "Get Shape and Type of Node Tensors:\n",
      "\n",
      "torch.Size([11, 74])\n",
      "<class 'torch.Tensor'>\n",
      "====================================================================================================\n",
      "Display Edge Tensors:\n",
      "\n",
      "Get Shape and Type of Edge Tensors:\n",
      "\n",
      "torch.Size([24, 12])\n",
      "<class 'torch.Tensor'>\n",
      "====================================================================================================\n",
      "Number of nodes in Graph: 11\n",
      "Number of edges in Graph: 24\n"
     ]
    }
   ],
   "execution_count": 148
  },
  {
   "metadata": {},
   "cell_type": "markdown",
   "source": [
    "---\n",
    "## Convert to PyTorch Geometric Data Object\n",
    "\n",
    "- Note: This should be our format as Input for our GNN's using PyTorch Geometric"
   ],
   "id": "6ccf5d133e5aa24f"
  },
  {
   "metadata": {
    "ExecuteTime": {
     "end_time": "2024-11-17T19:51:06.337689Z",
     "start_time": "2024-11-17T19:51:06.335610Z"
    }
   },
   "cell_type": "code",
   "source": [
    "# Extract node features from DGL graph\n",
    "node_features = dgl_graph.ndata['h']  # Node features: Shape [num_nodes, num_node_features]\n",
    "\n",
    "# Extract edge features from DGL graph\n",
    "edge_features = dgl_graph.edata['e']  # Edge features: Shape [num_edges, num_edge_features]\n",
    "\n",
    "# Extract edge index (source and destination nodes of edges)\n",
    "src, dst = dgl_graph.edges()  # Returns two tensors: source nodes and destination nodes\n",
    "edge_index = torch.stack([src, dst], dim=0)  # Shape [2, num_edges]\n",
    "\n",
    "# Create PyTorch Geometric Data object\n",
    "pytorch_geo_graph = Data(\n",
    "    x=node_features,             # Node features\n",
    "    edge_index=edge_index,       # Edge indices\n",
    "    edge_attr=edge_features      # Edge features\n",
    ")"
   ],
   "id": "de5afc53ea55224d",
   "outputs": [],
   "execution_count": 149
  },
  {
   "metadata": {
    "ExecuteTime": {
     "end_time": "2024-11-17T19:51:06.346004Z",
     "start_time": "2024-11-17T19:51:06.344504Z"
    }
   },
   "cell_type": "code",
   "source": [
    "print(type(pytorch_geo_graph))\n",
    "print(pytorch_geo_graph) # build GNN with pytorch geometric and check if it runs as expected."
   ],
   "id": "f1d3d6a769dd281d",
   "outputs": [
    {
     "name": "stdout",
     "output_type": "stream",
     "text": [
      "<class 'torch_geometric.data.data.Data'>\n",
      "Data(x=[11, 74], edge_index=[2, 24], edge_attr=[24, 12])\n"
     ]
    }
   ],
   "execution_count": 150
  },
  {
   "metadata": {},
   "cell_type": "markdown",
   "source": [
    "---\n",
    "## Convert to NetworkX Graphs\n",
    "\n",
    "- Try out some visualizations of Graphs using Networkx graphs"
   ],
   "id": "e632025c359efd4e"
  },
  {
   "metadata": {
    "ExecuteTime": {
     "end_time": "2024-11-17T19:51:06.363268Z",
     "start_time": "2024-11-17T19:51:06.358247Z"
    }
   },
   "cell_type": "code",
   "source": [
    "# Note: These functions were generated with the assistance of OpenAI's ChatGPT4o.\n",
    "def mol_to_networkx(mol):\n",
    "    \"\"\"\n",
    "    Convert an RDKit Mol object to a NetworkX graph with atom and bond attributes,\n",
    "    including 2D coordinates for visualization.\n",
    "\n",
    "    Parameters:\n",
    "    - mol: RDKit Mol object\n",
    "\n",
    "    Returns:\n",
    "    - nx_graph: A NetworkX graph with 2D coordinates stored in the \"pos\" attribute of nodes.\n",
    "    \"\"\"\n",
    "    # Generate 2D coordinates\n",
    "    AllChem.Compute2DCoords(mol)\n",
    "\n",
    "    # Create a NetworkX graph\n",
    "    nx_graph = nx.Graph()\n",
    "\n",
    "    # Extract the 2D positions from the RDKit conformer\n",
    "    conf = mol.GetConformer()\n",
    "    positions = {atom.GetIdx(): (conf.GetAtomPosition(atom.GetIdx()).x,\n",
    "                                 conf.GetAtomPosition(atom.GetIdx()).y)\n",
    "                 for atom in mol.GetAtoms()}\n",
    "\n",
    "    # Add nodes with atom attributes and positions\n",
    "    for atom in mol.GetAtoms():\n",
    "        nx_graph.add_node(\n",
    "            atom.GetIdx(),\n",
    "            element=atom.GetSymbol(),  # Atom type (e.g., 'C', 'O', 'H')\n",
    "            atomic_num=atom.GetAtomicNum(),  # Atomic number\n",
    "            is_aromatic=atom.GetIsAromatic(),  # Aromaticity\n",
    "            formal_charge=atom.GetFormalCharge(),  # Formal charge\n",
    "            pos=positions[atom.GetIdx()]  # 2D position\n",
    "        )\n",
    "\n",
    "    # Add edges with bond attributes\n",
    "    for bond in mol.GetBonds():\n",
    "        nx_graph.add_edge(\n",
    "            bond.GetBeginAtomIdx(),\n",
    "            bond.GetEndAtomIdx(),\n",
    "            bond_type=str(bond.GetBondType()),  # Bond type (e.g., 'SINGLE', 'DOUBLE')\n",
    "            is_aromatic=bond.GetIsAromatic()  # Aromaticity of bond\n",
    "        )\n",
    "\n",
    "    return nx_graph\n",
    "\n",
    "def plot_molecule_graph(graph, atom_colors=None, pos=None):\n",
    "    \"\"\"\n",
    "    Plot a molecular graph with colored nodes and proper geometry.\n",
    "\n",
    "    Parameters:\n",
    "    - graph: networkx.Graph, the molecular graph.\n",
    "             Nodes should have an \"element\" attribute (e.g., \"C\", \"O\", etc.).\n",
    "    - atom_colors: dict, optional, a lookup table mapping atomic symbols to colors.\n",
    "                   If None, a default table for common organic elements is used.\n",
    "    - pos: dict, optional, positions of nodes (e.g., from 3D coordinates).\n",
    "           If None, positions will be extracted from node attributes or computed with spring_layout.\n",
    "    \"\"\"\n",
    "    # Default atom colors for common organic elements\n",
    "    default_atom_colors = {\n",
    "        \"H\": \"white\",  # Hydrogen\n",
    "        \"C\": \"black\",  # Carbon\n",
    "        \"O\": \"red\",    # Oxygen\n",
    "        \"N\": \"blue\",   # Nitrogen\n",
    "        \"S\": \"yellow\", # Sulfur\n",
    "        \"P\": \"orange\", # Phosphorus\n",
    "        \"F\": \"green\",  # Fluorine\n",
    "        \"Cl\": \"lime\",  # Chlorine\n",
    "        \"Br\": \"brown\", # Bromine\n",
    "        \"I\": \"purple\"  # Iodine\n",
    "    }\n",
    "\n",
    "    # Use the default atom colors if none are provided\n",
    "    if atom_colors is None:\n",
    "        atom_colors = default_atom_colors\n",
    "\n",
    "    # Ensure nodes have the \"element\" attribute\n",
    "    if not all(\"element\" in data for _, data in graph.nodes(data=True)):\n",
    "        raise ValueError(\"All nodes must have an 'element' attribute for coloring.\")\n",
    "\n",
    "    # Check for positions in node attributes\n",
    "    if pos is None:\n",
    "        if all(\"pos\" in data for _, data in graph.nodes(data=True)):\n",
    "            # Extract positions from node attributes\n",
    "            pos = {node: data[\"pos\"][:2] for node, data in graph.nodes(data=True)}\n",
    "        else:\n",
    "            # Fallback to spring_layout if no positions are available\n",
    "            pos = nx.spring_layout(graph, seed=42)\n",
    "\n",
    "    # Extract colors for nodes based on atom type\n",
    "    node_colors = [atom_colors.get(graph.nodes[node][\"element\"], \"gray\") for node in graph.nodes()]\n",
    "\n",
    "    # Plot the molecular graph\n",
    "    plt.figure(figsize=(8, 8))\n",
    "    nx.draw(\n",
    "        graph,\n",
    "        pos,\n",
    "        node_color=node_colors,\n",
    "        with_labels=True,\n",
    "        labels={node: graph.nodes[node][\"element\"] for node in graph.nodes()},\n",
    "        edge_color=\"black\",\n",
    "        node_size=600,\n",
    "        font_size=10,\n",
    "        font_color=\"white\"\n",
    "    )\n",
    "    plt.title(\"Molecular Graph\")\n",
    "    plt.show()"
   ],
   "id": "4cbdb8a47aab36d4",
   "outputs": [],
   "execution_count": 151
  },
  {
   "metadata": {
    "ExecuteTime": {
     "end_time": "2024-11-17T19:51:06.375332Z",
     "start_time": "2024-11-17T19:51:06.373592Z"
    }
   },
   "cell_type": "code",
   "source": [
    "# create nx graph\n",
    "nx_graph = mol_to_networkx(dummy_mol)\n",
    "\n",
    "print(nx_graph)\n",
    "print(type(nx_graph))"
   ],
   "id": "f0125484dce69410",
   "outputs": [
    {
     "name": "stdout",
     "output_type": "stream",
     "text": [
      "Graph with 11 nodes and 12 edges\n",
      "<class 'networkx.classes.graph.Graph'>\n"
     ]
    }
   ],
   "execution_count": 152
  },
  {
   "metadata": {
    "ExecuteTime": {
     "end_time": "2024-11-17T19:51:06.427449Z",
     "start_time": "2024-11-17T19:51:06.377549Z"
    }
   },
   "cell_type": "code",
   "source": [
    "# plot the graph\n",
    "plot_molecule_graph(nx_graph)"
   ],
   "id": "83cb0aceaf4b66c4",
   "outputs": [
    {
     "data": {
      "text/plain": [
       "<Figure size 800x800 with 1 Axes>"
      ],
      "image/png": "[encoded data removed]"
     },
     "metadata": {},
     "output_type": "display_data"
    }
   ],
   "execution_count": 153
  }
 ],
 "metadata": {
  "kernelspec": {
   "name": "python3",
   "language": "python",
   "display_name": "Python 3 (ipykernel)"
  }
 },
 "nbformat": 5,
 "nbformat_minor": 9
}
